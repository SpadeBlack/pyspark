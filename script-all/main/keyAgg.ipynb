{
 "cells": [
  {
   "cell_type": "code",
   "execution_count": 1,
   "metadata": {},
   "outputs": [
    {
     "name": "stdout",
     "output_type": "stream",
     "text": [
      "Spark object is created\n",
      "Number of partitions for shuffle changed to : 200\n"
     ]
    }
   ],
   "source": [
    "from pyspark.sql import SparkSession\n",
    "spark = SparkSession.builder.master('local').appName('YOLO').getOrCreate()\n",
    "print(\"Spark object is created\")\n",
    "print(\"Number of partitions for shuffle changed to : \" + str(spark.conf.get('spark.sql.shuffle.partitions')))"
   ]
  },
  {
   "cell_type": "code",
   "execution_count": 2,
   "metadata": {},
   "outputs": [],
   "source": [
    "ord = spark.sparkContext.textFile(\"F:\\digi-world\\pyspark\\data-all\\PracticeFiles\\Orders\\part-00000\")\n",
    "ord_item = spark.sparkContext.textFile(\"F:\\digi-world\\pyspark\\data-all\\PracticeFiles\\Order_items\\part-00000\")"
   ]
  },
  {
   "cell_type": "markdown",
   "metadata": {},
   "source": [
    "***Aggregation Operations (Total)***\n"
   ]
  },
  {
   "cell_type": "code",
   "execution_count": 14,
   "metadata": {},
   "outputs": [
    {
     "name": "stdout",
     "output_type": "stream",
     "text": [
      "['1,2013-07-25 00:00:00.0,11599,CLOSED', '2,2013-07-25 00:00:00.0,256,PENDING_PAYMENT', '3,2013-07-25 00:00:00.0,12111,COMPLETE', '4,2013-07-25 00:00:00.0,8827,CLOSED', '5,2013-07-25 00:00:00.0,11318,COMPLETE']\n",
      "Closed orders\n"
     ]
    },
    {
     "data": {
      "text/plain": [
       "68883"
      ]
     },
     "execution_count": 14,
     "metadata": {},
     "output_type": "execute_result"
    }
   ],
   "source": [
    "print(ord.take(5))\n",
    "print(\"Closed orders\")\n",
    "ord.filter(lambda x : x.split(',')[3]).count()\n"
   ]
  },
  {
   "cell_type": "code",
   "execution_count": 5,
   "metadata": {},
   "outputs": [
    {
     "name": "stdout",
     "output_type": "stream",
     "text": [
      "['1,1,957,1,299.98,299.98', '2,2,1073,1,199.99,199.99', '3,2,502,5,250.0,50.0', '4,2,403,1,129.99,129.99', '5,4,897,2,49.98,24.99']\n"
     ]
    }
   ],
   "source": [
    "print(ord_item.take(5))"
   ]
  },
  {
   "cell_type": "code",
   "execution_count": 18,
   "metadata": {},
   "outputs": [
    {
     "name": "stdout",
     "output_type": "stream",
     "text": [
      "62.0\n",
      "62.0\n"
     ]
    }
   ],
   "source": [
    "filt = ord_item.filter(lambda x : int(x.split(',')[1])<11)\\\n",
    "    .map(lambda x : float(x.split(',')[3])).reduce(lambda x,y : x+y)\n",
    "print(filt)\n",
    "\n",
    "# Without lambda in reduce\n",
    "from operator import add\n",
    "filt = ord_item.filter(lambda x : int(x.split(',')[1])<11)\\\n",
    "    .map(lambda x : float(x.split(',')[3])).reduce(add)\n",
    "print(filt)"
   ]
  },
  {
   "cell_type": "code",
   "execution_count": 40,
   "metadata": {},
   "outputs": [
    {
     "name": "stdout",
     "output_type": "stream",
     "text": [
      "Order Items:\n",
      "1,1,957,1,299.98,299.98\n",
      "2,2,1073,1,199.99,199.99\n",
      "3,2,502,5,250.0,50.0\n",
      "4,2,403,1,129.99,129.99\n",
      "5,4,897,2,49.98,24.99\n",
      "\n",
      "For order Id 10:\n",
      "28,10,1073,1,199.99,199.99\n",
      "\n",
      "For order Id 10 usinf max fucntion:\n",
      "28,10,1073,1,199.99,199.99\n",
      "\n",
      "For order Id 10 usinf max fucntion:\n",
      "199.99\n"
     ]
    },
    {
     "name": "stderr",
     "output_type": "stream",
     "text": [
      "----------------------------------------\n",
      "Exception happened during processing of request from ('127.0.0.1', 54671)\n",
      "Traceback (most recent call last):\n",
      "  File \"C:\\Users\\tapen\\AppData\\Local\\Programs\\Python\\Python37\\lib\\socketserver.py\", line 316, in _handle_request_noblock\n",
      "    self.process_request(request, client_address)\n",
      "  File \"C:\\Users\\tapen\\AppData\\Local\\Programs\\Python\\Python37\\lib\\socketserver.py\", line 347, in process_request\n",
      "    self.finish_request(request, client_address)\n",
      "  File \"C:\\Users\\tapen\\AppData\\Local\\Programs\\Python\\Python37\\lib\\socketserver.py\", line 360, in finish_request\n",
      "    self.RequestHandlerClass(request, client_address, self)\n",
      "  File \"C:\\Users\\tapen\\AppData\\Local\\Programs\\Python\\Python37\\lib\\socketserver.py\", line 720, in __init__\n",
      "    self.handle()\n",
      "  File \"C:\\Users\\tapen\\AppData\\Local\\Programs\\Python\\Python37\\lib\\site-packages\\pyspark\\accumulators.py\", line 262, in handle\n",
      "    poll(accum_updates)\n",
      "  File \"C:\\Users\\tapen\\AppData\\Local\\Programs\\Python\\Python37\\lib\\site-packages\\pyspark\\accumulators.py\", line 235, in poll\n",
      "    if func():\n",
      "  File \"C:\\Users\\tapen\\AppData\\Local\\Programs\\Python\\Python37\\lib\\site-packages\\pyspark\\accumulators.py\", line 239, in accum_updates\n",
      "    num_updates = read_int(self.rfile)\n",
      "  File \"C:\\Users\\tapen\\AppData\\Local\\Programs\\Python\\Python37\\lib\\site-packages\\pyspark\\serializers.py\", line 562, in read_int\n",
      "    length = stream.read(4)\n",
      "  File \"C:\\Users\\tapen\\AppData\\Local\\Programs\\Python\\Python37\\lib\\socket.py\", line 589, in readinto\n",
      "    return self._sock.recv_into(b)\n",
      "ConnectionResetError: [WinError 10054] An existing connection was forcibly closed by the remote host\n",
      "----------------------------------------\n"
     ]
    }
   ],
   "source": [
    "print(\"Order Items:\")\n",
    "for i in ord_item.take(5): print(i)\n",
    "filt = ord_item.filter(lambda x : int(x.split(',')[1])==10)\\\n",
    "    .reduce(lambda a,b : a if (float(a.split(',')[4]) > float(b.split(',')[4])) else b)\n",
    "print(\"\\nFor order Id 10:\")\n",
    "print(filt)\n",
    "# Using Max function\n",
    "filt = ord_item.filter(lambda x : int(x.split(',')[1])==10)\\\n",
    "    .reduce(max)\n",
    "print(\"\\nFor order Id 10 usinf max fucntion:\")\n",
    "print(filt)\n",
    "# SSSSSSSSSSSSSSSSSSSSS\n",
    "filt = ord_item.filter(lambda x : int(x.split(',')[1])==10)\\\n",
    "    .map(lambda x : float(x.split(',')[4]))\\\n",
    "    .reduce(max)\n",
    "print(\"\\nFor order Id 10 usinf max fucntion:\")\n",
    "print(filt)"
   ]
  },
  {
   "cell_type": "markdown",
   "metadata": {},
   "source": [
    "***Shuffling and Combiner***"
   ]
  },
  {
   "cell_type": "code",
   "execution_count": null,
   "metadata": {},
   "outputs": [],
   "source": []
  },
  {
   "cell_type": "markdown",
   "metadata": {},
   "source": []
  }
 ],
 "metadata": {
  "interpreter": {
   "hash": "956a443faffd9757daefde1d9a261f28b842c0aed8b3e0841040327d2ece7f98"
  },
  "kernelspec": {
   "display_name": "Python 3.7.8 64-bit",
   "language": "python",
   "name": "python3"
  },
  "language_info": {
   "codemirror_mode": {
    "name": "ipython",
    "version": 3
   },
   "file_extension": ".py",
   "mimetype": "text/x-python",
   "name": "python",
   "nbconvert_exporter": "python",
   "pygments_lexer": "ipython3",
   "version": "3.7.8"
  },
  "orig_nbformat": 4
 },
 "nbformat": 4,
 "nbformat_minor": 2
}
