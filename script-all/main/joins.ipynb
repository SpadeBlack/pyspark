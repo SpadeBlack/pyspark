{
 "cells": [
  {
   "cell_type": "code",
   "execution_count": 1,
   "metadata": {},
   "outputs": [
    {
     "name": "stdout",
     "output_type": "stream",
     "text": [
      "Spark object is created\n",
      "Number of partitions for shuffle changed to : 200\n"
     ]
    }
   ],
   "source": [
    "from pyspark.sql import SparkSession\n",
    "spark = SparkSession.builder.master('local').appName('YOLO').getOrCreate()\n",
    "print(\"Spark object is created\")\n",
    "print(\"Number of partitions for shuffle changed to : \" + str(spark.conf.get('spark.sql.shuffle.partitions')))"
   ]
  },
  {
   "cell_type": "code",
   "execution_count": 2,
   "metadata": {},
   "outputs": [],
   "source": [
    "ord = spark.sparkContext.textFile(\"F:\\digi-world\\pyspark\\data-all\\PracticeFiles\\Orders\\part-00000\")\n",
    "ord_item = spark.sparkContext.textFile(\"F:\\digi-world\\pyspark\\data-all\\PracticeFiles\\Order_items\\part-00000\")"
   ]
  },
  {
   "cell_type": "code",
   "execution_count": 23,
   "metadata": {},
   "outputs": [
    {
     "name": "stdout",
     "output_type": "stream",
     "text": [
      "1,2013-07-25 00:00:00.0,11599,CLOSED\n",
      "2,2013-07-25 00:00:00.0,256,PENDING_PAYMENT\n",
      "3,2013-07-25 00:00:00.0,12111,COMPLETE\n",
      "4,2013-07-25 00:00:00.0,8827,CLOSED\n",
      "5,2013-07-25 00:00:00.0,11318,COMPLETE\n",
      "\n",
      "1,1,957,1,299.98,299.98\n",
      "2,2,1073,1,199.99,199.99\n",
      "3,2,502,5,250.0,50.0\n",
      "4,2,403,1,129.99,129.99\n",
      "5,4,897,2,49.98,24.99\n"
     ]
    }
   ],
   "source": [
    "for i in ord.take(5): print(i)\n",
    "print()\n",
    "for j in ord_item.take(5): print(j)"
   ]
  },
  {
   "cell_type": "markdown",
   "metadata": {},
   "source": [
    "***Joins***"
   ]
  },
  {
   "cell_type": "code",
   "execution_count": 37,
   "metadata": {},
   "outputs": [
    {
     "name": "stdout",
     "output_type": "stream",
     "text": [
      "Orders:\n",
      "('1', '11599')\n",
      "('2', '256')\n",
      "('3', '12111')\n",
      "('4', '8827')\n",
      "('5', '11318')\n",
      "\n",
      "Order Items:\n",
      "('1', '299.98')\n",
      "('2', '199.99')\n",
      "('2', '250.0')\n",
      "('2', '129.99')\n",
      "('4', '49.98')\n"
     ]
    }
   ],
   "source": [
    "print(\"Orders:\")\n",
    "ordMap = ord.map(lambda x : (x.split(',')[0], x.split(',')[2]))\n",
    "for i in ordMap.take(5):    print(i)\n",
    "print()\n",
    "print(\"Order Items:\")\n",
    "ordItemsMap=ord_item.map(lambda x : (x.split(',')[1],x.split(',')[4]))\n",
    "for i in ordItemsMap.take(5):   print(i)"
   ]
  },
  {
   "cell_type": "code",
   "execution_count": 46,
   "metadata": {},
   "outputs": [
    {
     "name": "stdout",
     "output_type": "stream",
     "text": [
      "('1', ('11599', '299.98'))\n",
      "('4', ('8827', '49.98'))\n",
      "('4', ('8827', '299.95'))\n",
      "('4', ('8827', '150.0'))\n",
      "('4', ('8827', '199.92'))\n",
      "('8', ('2911', '179.97'))\n",
      "('8', ('2911', '299.95'))\n",
      "('8', ('2911', '199.92'))\n",
      "('8', ('2911', '50.0'))\n",
      "('9', ('5657', '199.98'))\n"
     ]
    }
   ],
   "source": [
    "findSubtotalForCust = ordMap.join(ordItemsMap)\n",
    "for i in findSubtotalForCust.take(10): print(i)"
   ]
  },
  {
   "cell_type": "code",
   "execution_count": 44,
   "metadata": {},
   "outputs": [
    {
     "data": {
      "text/plain": [
       "'11599,299.98'"
      ]
     },
     "execution_count": 44,
     "metadata": {},
     "output_type": "execute_result"
    }
   ],
   "source": [
    "findSubtotalForCust.map(lambda x : str(x[1][0])+','+str(x[1][1])).first()"
   ]
  },
  {
   "cell_type": "markdown",
   "metadata": {},
   "source": [
    "***CoGroup***"
   ]
  },
  {
   "cell_type": "code",
   "execution_count": 60,
   "metadata": {},
   "outputs": [
    {
     "data": {
      "text/plain": [
       "[('b',\n",
       "  (<pyspark.resultiterable.ResultIterable at 0x284eb7a0b08>,\n",
       "   <pyspark.resultiterable.ResultIterable at 0x284eb7a0148>)),\n",
       " ('a',\n",
       "  (<pyspark.resultiterable.ResultIterable at 0x284eb7a4e08>,\n",
       "   <pyspark.resultiterable.ResultIterable at 0x284eb7a4888>))]"
      ]
     },
     "execution_count": 60,
     "metadata": {},
     "output_type": "execute_result"
    }
   ],
   "source": [
    "x = spark.sparkContext.parallelize([(\"a\", 1), (\"b\", 4)])\n",
    "y = spark.sparkContext.parallelize([(\"a\", 2)])\n",
    "xy = x.cogroup(y)\n",
    "xy.take(3)"
   ]
  },
  {
   "cell_type": "code",
   "execution_count": 67,
   "metadata": {},
   "outputs": [
    {
     "name": "stdout",
     "output_type": "stream",
     "text": [
      "b > [[4], []]\n",
      "a > [[1], [2]]\n"
     ]
    }
   ],
   "source": [
    "for i,j in xy.take(2) : print(str(i)+' > '+ str(list(map(list, j))))"
   ]
  },
  {
   "cell_type": "markdown",
   "metadata": {},
   "source": [
    "***Cartesian***"
   ]
  },
  {
   "cell_type": "code",
   "execution_count": 70,
   "metadata": {},
   "outputs": [
    {
     "data": {
      "text/plain": [
       "[(1, 1), (1, 2), (1, 3), (2, 1), (2, 2), (2, 3), (3, 1), (3, 2), (3, 3)]"
      ]
     },
     "execution_count": 70,
     "metadata": {},
     "output_type": "execute_result"
    }
   ],
   "source": [
    "rdd = spark.sparkContext.parallelize((1,3,2))\n",
    "sorted(rdd.cartesian(rdd).collect(), reverse=False)"
   ]
  },
  {
   "cell_type": "markdown",
   "metadata": {},
   "source": []
  }
 ],
 "metadata": {
  "interpreter": {
   "hash": "956a443faffd9757daefde1d9a261f28b842c0aed8b3e0841040327d2ece7f98"
  },
  "kernelspec": {
   "display_name": "Python 3.7.8 64-bit",
   "language": "python",
   "name": "python3"
  },
  "language_info": {
   "codemirror_mode": {
    "name": "ipython",
    "version": 3
   },
   "file_extension": ".py",
   "mimetype": "text/x-python",
   "name": "python",
   "nbconvert_exporter": "python",
   "pygments_lexer": "ipython3",
   "version": "3.7.8"
  },
  "orig_nbformat": 4
 },
 "nbformat": 4,
 "nbformat_minor": 2
}
