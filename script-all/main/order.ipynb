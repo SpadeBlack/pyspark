{
 "cells": [
  {
   "cell_type": "code",
   "execution_count": 27,
   "metadata": {},
   "outputs": [
    {
     "name": "stdout",
     "output_type": "stream",
     "text": [
      "Spark object is created\n",
      "Number of partitions for shuffle changed to : 200\n"
     ]
    }
   ],
   "source": [
    "from pyspark.sql import SparkSession\n",
    "spark = SparkSession.builder.master('local').appName('YOLO').getOrCreate()\n",
    "print(\"Spark object is created\")\n",
    "print(\"Number of partitions for shuffle changed to : \" + str(spark.conf.get('spark.sql.shuffle.partitions')))"
   ]
  },
  {
   "cell_type": "code",
   "execution_count": 49,
   "metadata": {},
   "outputs": [],
   "source": [
    "ord = spark.sparkContext.textFile(\"F:\\digi-world\\py-spark\\data-all\\PracticeFiles\\Orders\\part-00000\")\n",
    "ord_item = spark.sparkContext.textFile(\"F:\\digi-world\\py-spark\\data-all\\PracticeFiles\\Order_items\\part-00000\")"
   ]
  },
  {
   "cell_type": "code",
   "execution_count": 50,
   "metadata": {},
   "outputs": [
    {
     "name": "stdout",
     "output_type": "stream",
     "text": [
      "1\n",
      "1\n",
      "[68883]\n"
     ]
    }
   ],
   "source": [
    "print(ord.getNumPartitions())\n",
    "print(ord_item.getNumPartitions())\n",
    "print(ord.glom().map(len).collect())"
   ]
  },
  {
   "cell_type": "code",
   "execution_count": 51,
   "metadata": {},
   "outputs": [
    {
     "name": "stdout",
     "output_type": "stream",
     "text": [
      "1,2013-07-25 00:00:00.0,11599,CLOSED\n",
      "2,2013-07-25 00:00:00.0,256,PENDING_PAYMENT\n",
      "3,2013-07-25 00:00:00.0,12111,COMPLETE\n",
      "4,2013-07-25 00:00:00.0,8827,CLOSED\n",
      "5,2013-07-25 00:00:00.0,11318,COMPLETE\n",
      "\n",
      "1,1,957,1,299.98,299.98\n",
      "2,2,1073,1,199.99,199.99\n",
      "3,2,502,5,250.0,50.0\n",
      "4,2,403,1,129.99,129.99\n",
      "5,4,897,2,49.98,24.99\n"
     ]
    }
   ],
   "source": [
    "for i in ord.take(5): print(i)\n",
    "print()\n",
    "for j in ord_item.take(5): print(j)"
   ]
  },
  {
   "cell_type": "markdown",
   "metadata": {},
   "source": [
    "***rdd.map(lambda)***"
   ]
  },
  {
   "cell_type": "code",
   "execution_count": 52,
   "metadata": {},
   "outputs": [
    {
     "name": "stdout",
     "output_type": "stream",
     "text": [
      "[('1', 'CLOSED'), ('2', 'PENDING_PAYMENT'), ('3', 'COMPLETE'), ('4', 'CLOSED'), ('5', 'COMPLETE')]\n",
      "['1#CLOSED', '2#PENDING_PAYMENT', '3#COMPLETE', '4#CLOSED', '5#COMPLETE']\n"
     ]
    }
   ],
   "source": [
    "ordMap = ord.map(lambda x : (x.split(',')[0], x.split(',')[3])).take(5)\n",
    "print(ordMap)\n",
    "ordMap = ord.map(lambda x : x.split(',')[0]+\"#\"+x.split(',')[3]).take(5)\n",
    "print(ordMap)"
   ]
  },
  {
   "cell_type": "code",
   "execution_count": 53,
   "metadata": {},
   "outputs": [
    {
     "data": {
      "text/plain": [
       "['2013/07/25', '2013/07/25', '2013/07/25', '2013/07/25', '2013/07/25']"
      ]
     },
     "execution_count": 53,
     "metadata": {},
     "output_type": "execute_result"
    }
   ],
   "source": [
    "ord.map(lambda x : x.split(',')[1].split(' ')[0].replace('-','/')).take(5)"
   ]
  },
  {
   "cell_type": "code",
   "execution_count": 72,
   "metadata": {},
   "outputs": [
    {
     "data": {
      "text/plain": [
       "[('1', '1,2013-07-25 00:00:00.0,11599,CLOSED'),\n",
       " ('2', '2,2013-07-25 00:00:00.0,256,PENDING_PAYMENT'),\n",
       " ('3', '3,2013-07-25 00:00:00.0,12111,COMPLETE'),\n",
       " ('4', '4,2013-07-25 00:00:00.0,8827,CLOSED'),\n",
       " ('5', '5,2013-07-25 00:00:00.0,11318,COMPLETE')]"
      ]
     },
     "execution_count": 72,
     "metadata": {},
     "output_type": "execute_result"
    }
   ],
   "source": [
    "# keyValuePair = ord.map(lambda x : (x.split(',')[0], x.split(',')[1:len(x)])).take(5)\n",
    "ord_keyValuePair = ord.map(lambda x : (x.split(',')[0], x)).take(5)\n",
    "ord_keyValuePair"
   ]
  },
  {
   "cell_type": "code",
   "execution_count": 74,
   "metadata": {},
   "outputs": [
    {
     "name": "stdout",
     "output_type": "stream",
     "text": [
      "[('1', '299.98'), ('2', '199.99'), ('3', '250.0'), ('4', '129.99'), ('5', '49.98')]\n"
     ]
    }
   ],
   "source": [
    "ord_items_map = ord_item.map(lambda x : (x.split(',')[0], x.split(',')[4])).take(5)\n",
    "print(ord_items_map)"
   ]
  },
  {
   "cell_type": "code",
   "execution_count": 82,
   "metadata": {},
   "outputs": [
    {
     "name": "stdout",
     "output_type": "stream",
     "text": [
      "1,2013-07-25 00:00:00.0,11599,CLOSED\n",
      "2,2013-07-25 00:00:00.0,256,PENDING_PAYMENT\n",
      "3,2013-07-25 00:00:00.0,12111,COMPLETE\n",
      "4,2013-07-25 00:00:00.0,8827,CLOSED\n",
      "5,2013-07-25 00:00:00.0,11318,COMPLETE\n"
     ]
    },
    {
     "data": {
      "text/plain": [
       "['closed', 'pending_payment', 'complete', 'closed', 'complete']"
      ]
     },
     "execution_count": 82,
     "metadata": {},
     "output_type": "execute_result"
    }
   ],
   "source": [
    "for i in ord.take(5): print(i)\n",
    "def lower_case(str):\n",
    "    return str.lower()\n",
    "ord.map(lambda x : lower_case(x.split(',')[3])).take(5)\n",
    "\n"
   ]
  },
  {
   "cell_type": "markdown",
   "metadata": {},
   "source": [
    "***flatMap()***"
   ]
  },
  {
   "cell_type": "code",
   "execution_count": null,
   "metadata": {},
   "outputs": [],
   "source": []
  }
 ],
 "metadata": {
  "interpreter": {
   "hash": "956a443faffd9757daefde1d9a261f28b842c0aed8b3e0841040327d2ece7f98"
  },
  "kernelspec": {
   "display_name": "Python 3.7.8 64-bit",
   "language": "python",
   "name": "python3"
  },
  "language_info": {
   "codemirror_mode": {
    "name": "ipython",
    "version": 3
   },
   "file_extension": ".py",
   "mimetype": "text/x-python",
   "name": "python",
   "nbconvert_exporter": "python",
   "pygments_lexer": "ipython3",
   "version": "3.7.8"
  },
  "orig_nbformat": 4
 },
 "nbformat": 4,
 "nbformat_minor": 2
}
