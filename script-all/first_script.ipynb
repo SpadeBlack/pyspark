{
 "cells": [
  {
   "cell_type": "code",
   "execution_count": 1,
   "id": "ffd47c33",
   "metadata": {},
   "outputs": [],
   "source": [
    "main=\"ola-hello-koko-main-ggwp\""
   ]
  },
  {
   "cell_type": "code",
   "execution_count": 2,
   "id": "5c783615",
   "metadata": {},
   "outputs": [
    {
     "name": "stdout",
     "output_type": "stream",
     "text": [
      "gudbak: kela\n"
     ]
    }
   ],
   "source": [
    "if \"ola\" in main:\n",
    "    print(\"gudbak: {}\".format(\"kela\"))"
   ]
  },
  {
   "cell_type": "code",
   "execution_count": 3,
   "id": "98139c45",
   "metadata": {},
   "outputs": [
    {
     "name": "stdout",
     "output_type": "stream",
     "text": [
      "hello\n"
     ]
    }
   ],
   "source": [
    "print(\"hello\")"
   ]
  },
  {
   "cell_type": "code",
   "execution_count": 4,
   "id": "d469c752",
   "metadata": {},
   "outputs": [
    {
     "name": "stdout",
     "output_type": "stream",
     "text": [
      "OLA-HELLO-KOKO-MAIN-GGWP\n"
     ]
    }
   ],
   "source": [
    "print(main.upper())\n"
   ]
  }
 ],
 "metadata": {
  "kernelspec": {
   "display_name": "Python 3 (ipykernel)",
   "language": "python",
   "name": "python3"
  },
  "language_info": {
   "codemirror_mode": {
    "name": "ipython",
    "version": 3
   },
   "file_extension": ".py",
   "mimetype": "text/x-python",
   "name": "python",
   "nbconvert_exporter": "python",
   "pygments_lexer": "ipython3",
   "version": "3.7.8"
  }
 },
 "nbformat": 4,
 "nbformat_minor": 5
}
